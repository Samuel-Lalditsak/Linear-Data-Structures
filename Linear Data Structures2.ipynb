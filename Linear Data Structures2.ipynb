{
 "cells": [
  {
   "cell_type": "markdown",
   "metadata": {},
   "source": [
    "### 1. Delete the elements in an linked list whose sum is equal to zero"
   ]
  },
  {
   "cell_type": "code",
   "execution_count": 1,
   "metadata": {},
   "outputs": [],
   "source": [
    "def delete_elements_with_sum_zero(head):\n",
    "  if not head:\n",
    "    return None\n",
    "  current = head\n",
    "  previous = None\n",
    "  while current:\n",
    "    if current.data == 0:\n",
    "      if not previous:\n",
    "        head = current.next\n",
    "      else:\n",
    "        previous.next = current.next\n",
    "    else:\n",
    "      previous = current\n",
    "    current = current.next\n",
    "  return head"
   ]
  },
  {
   "cell_type": "markdown",
   "metadata": {},
   "source": [
    "### 2. Reverse a linked list in groups of given size"
   ]
  },
  {
   "cell_type": "code",
   "execution_count": 2,
   "metadata": {},
   "outputs": [],
   "source": [
    "def delete_elements_with_sum_zero(head):\n",
    "  current = head\n",
    "  previous = None\n",
    "  while current:\n",
    "    if current.data == 0:\n",
    "      if not previous:\n",
    "        head = current.next\n",
    "      else:\n",
    "        previous.next = current.next\n",
    "    else:\n",
    "      previous = current\n",
    "    current = current.next\n",
    "  return head"
   ]
  },
  {
   "cell_type": "markdown",
   "metadata": {},
   "source": [
    "### 3. Merge a linked list into another linked list at alternate positions."
   ]
  },
  {
   "cell_type": "code",
   "execution_count": 3,
   "metadata": {},
   "outputs": [],
   "source": [
    "def merge_linked_lists_at_alternate_positions(head1, head2):\n",
    "  current1 = head1\n",
    "  current2 = head2\n",
    "  merged_head = None\n",
    "  previous = None\n",
    "  while current1 and current2:\n",
    "    if not merged_head:\n",
    "      merged_head = current1\n",
    "    else:\n",
    "      previous.next = current1\n",
    "    previous = current1\n",
    "    if not merged_head:\n",
    "      merged_head = current2\n",
    "    else:\n",
    "      previous.next = current2\n",
    "    previous = current2\n",
    "    current1 = current1.next\n",
    "    current2 = current2.next\n",
    "  if current1:\n",
    "    previous.next = current1\n",
    "  if current2:\n",
    "    previous.next = current2\n",
    "  return merged_head"
   ]
  },
  {
   "cell_type": "markdown",
   "metadata": {},
   "source": [
    "### 4. In an array, Count Pairs with given sum"
   ]
  },
  {
   "cell_type": "code",
   "execution_count": 4,
   "metadata": {},
   "outputs": [],
   "source": [
    "def count_pairs_with_given_sum(arr, target_sum):\n",
    "  hash_table = {}\n",
    "  for element in arr:\n",
    "    if element in hash_table:\n",
    "      hash_table[element] += 1\n",
    "    else:\n",
    "      hash_table[element] = 1\n",
    "  count_pairs = 0\n",
    "  for element in arr:\n",
    "    complement = target_sum - element\n",
    "    if complement in hash_table:\n",
    "      count_pairs += hash_table[complement]\n",
    "  return count_pairs"
   ]
  },
  {
   "cell_type": "markdown",
   "metadata": {},
   "source": [
    "### 5. Find duplicates in an array"
   ]
  },
  {
   "cell_type": "code",
   "execution_count": 5,
   "metadata": {},
   "outputs": [],
   "source": [
    "def find_duplicates(arr):\n",
    "  hash_table = {}\n",
    "  for element in arr:\n",
    "    if element in hash_table:\n",
    "      hash_table[element] += 1\n",
    "    else:\n",
    "      hash_table[element] = 1\n",
    "  duplicates = []\n",
    "  for element, frequency in hash_table.items():\n",
    "    if frequency > 1:\n",
    "      duplicates.append(element)\n",
    "  return duplicates"
   ]
  },
  {
   "cell_type": "markdown",
   "metadata": {},
   "source": [
    "### 6. Find the Kth largest and Kth smallest number in an array"
   ]
  },
  {
   "cell_type": "code",
   "execution_count": 6,
   "metadata": {},
   "outputs": [],
   "source": [
    "def find_kth_largest_and_smallest(arr, k):\n",
    "  arr.sort()\n",
    "  kth_largest = arr[len(arr) - k]\n",
    "  kth_smallest = arr[k - 1]\n",
    "  return kth_largest, kth_smallest"
   ]
  },
  {
   "cell_type": "markdown",
   "metadata": {},
   "source": [
    "### 7. Move all the negative elements to one side of the array"
   ]
  },
  {
   "cell_type": "code",
   "execution_count": 7,
   "metadata": {},
   "outputs": [],
   "source": [
    "def move_negative_elements(arr):\n",
    "  i = 0\n",
    "  j = 0\n",
    "  while i < len(arr):\n",
    "    if arr[i] < 0:\n",
    "      arr[i], arr[j] = arr[j], arr[i]\n",
    "      j += 1\n",
    "    else:\n",
    "      i += 1\n",
    "  return arr"
   ]
  },
  {
   "cell_type": "markdown",
   "metadata": {},
   "source": [
    "### 8. Reverse a string using a stack data structure"
   ]
  },
  {
   "cell_type": "code",
   "execution_count": 8,
   "metadata": {},
   "outputs": [],
   "source": [
    "def reverse_string_with_stack(string):\n",
    "  stack = []\n",
    "  for char in string:\n",
    "    stack.append(char)\n",
    "  reversed_string = \"\"\n",
    "  while stack:\n",
    "    reversed_string += stack.pop()\n",
    "  return reversed_string"
   ]
  },
  {
   "cell_type": "markdown",
   "metadata": {},
   "source": [
    "### 9. Evaluate a postfix expression using stack"
   ]
  },
  {
   "cell_type": "code",
   "execution_count": 9,
   "metadata": {},
   "outputs": [],
   "source": [
    "def evaluate_postfix_expression(expression):\n",
    "  stack = []\n",
    "  for token in expression:\n",
    "    if token.isdigit():\n",
    "      stack.append(int(token))\n",
    "    else:\n",
    "      operand2 = stack.pop()\n",
    "      operand1 = stack.pop()\n",
    "      result = eval(f\"{operand1} {token} {operand2}\")\n",
    "      stack.append(result)\n",
    "  return stack[-1]"
   ]
  },
  {
   "cell_type": "markdown",
   "metadata": {},
   "source": [
    "### 10. Implement a queue using the stack data structure"
   ]
  },
  {
   "cell_type": "code",
   "execution_count": 10,
   "metadata": {},
   "outputs": [],
   "source": [
    "class Queue:\n",
    "    def __init__(self):\n",
    "        self.s1 = []\n",
    "        self.s2 = []\n",
    "    def enqueue(self, x):\n",
    "        while len(self.s1) > 0:\n",
    "            self.s2.append(self.s1[-1])\n",
    "            self.s1.pop()\n",
    "        self.s1.append(x)\n",
    "        while len(self.s2) > 0:\n",
    "            self.s1.append(self.s2[-1])\n",
    "            self.s2.pop()\n",
    "    def dequeue(self):\n",
    "        if len(self.s1) == 0:\n",
    "            print(\"Q is Empty\")\n",
    "        x = self.s1[-1]\n",
    "        self.s1.pop()\n",
    "        return x"
   ]
  }
 ],
 "metadata": {
  "interpreter": {
   "hash": "aee8b7b246df8f9039afb4144a1f6fd8d2ca17a180786b69acc140d282b71a49"
  },
  "kernelspec": {
   "display_name": "Python 3.11.4 64-bit",
   "language": "python",
   "name": "python3"
  },
  "language_info": {
   "codemirror_mode": {
    "name": "ipython",
    "version": 3
   },
   "file_extension": ".py",
   "mimetype": "text/x-python",
   "name": "python",
   "nbconvert_exporter": "python",
   "pygments_lexer": "ipython3",
   "version": "3.11.4"
  },
  "orig_nbformat": 4
 },
 "nbformat": 4,
 "nbformat_minor": 2
}
